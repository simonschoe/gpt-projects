{
 "cells": [
  {
   "cell_type": "markdown",
   "metadata": {},
   "source": [
    "### Setup"
   ]
  },
  {
   "cell_type": "code",
   "execution_count": null,
   "metadata": {},
   "outputs": [],
   "source": [
    "from pathlib import Path\n",
    "\n",
    "import pandas as pd\n",
    "from tqdm import tqdm\n",
    "from utils import collate_examples, create_message, extract_model_answers, get_completion\n",
    "\n",
    "# set global params\n",
    "MODEL = 'gpt-4-1106-preview'\n",
    "\n",
    "PRICE = {'gpt-4-1106-preview_input': 0.01 / 1000, \n",
    "         'gpt-4-1106-preview_output': 0.03 / 1000, \n",
    "         'gpt-3.5-turbo-0301': 0.002 / 1000,\n",
    "         'gpt-4-0613_input': 0.03 / 1000,\n",
    "         'gpt-4-0613_output': 0.06 / 1000,\n",
    "         'text-davinci-003': 0.02 / 1000}\n",
    "\n",
    "GROUP_EXAMPLES = 25 # None if no grouping\n",
    "\n",
    "PATH_IN = Path('..', 'input', '20231215_job-titles.csv')\n",
    "PATH_OUT = Path('..', 'output', '20231215_job-titles_coded.csv')\n",
    "PATH_PROMPT_SYS  = Path('..', 'input', 'prompts', '20231214_sys_dummy.txt')\n",
    "PATH_PROMPT_USER = Path('..', 'input', 'prompts', '20231215_dummy.txt')"
   ]
  },
  {
   "cell_type": "markdown",
   "metadata": {},
   "source": [
    "### Load Data"
   ]
  },
  {
   "cell_type": "code",
   "execution_count": null,
   "metadata": {},
   "outputs": [],
   "source": [
    "titles = pd.read_csv(PATH_IN, sep=';', index_col=0).reset_index()\n",
    "\n",
    "if GROUP_EXAMPLES:\n",
    "    titles['group'] = [i // GROUP_EXAMPLES for i in range(0, len(titles))]\n",
    "    titles = titles.groupby('group').apply(collate_examples)\n",
    "    titles = titles.apply(pd.Series)\n",
    "\n",
    "titles"
   ]
  },
  {
   "attachments": {},
   "cell_type": "markdown",
   "metadata": {},
   "source": [
    "### Tokenize and Estimate Cost"
   ]
  },
  {
   "cell_type": "code",
   "execution_count": null,
   "metadata": {},
   "outputs": [],
   "source": [
    "tqdm.pandas()\n",
    "\n",
    "titles_messages = titles.progress_apply(lambda x: create_message(p_sys=PATH_PROMPT_SYS, p_user=PATH_PROMPT_USER, title=x['Title'], model=MODEL), axis=1)\n",
    "\n",
    "titles = \\\n",
    "    pd.concat([\n",
    "        titles,\n",
    "        pd.DataFrame(titles_messages.tolist(), columns=['messages', 'n_tok'], index=titles_messages.index)\n",
    "    ], axis=1)\n",
    "\n",
    "print(f\"\"\"\n",
    "Model checkpoint:\\t{MODEL}\n",
    "Est. tokens (prompt):\\t{titles['n_tok'].sum()}\n",
    "Est. cost (prompt):\\t{round((titles['n_tok'].sum() * PRICE[f\"{MODEL}_input\"]), 2)}\n",
    "Est. tokens (output):\\t{len(titles) * (10 if not GROUP_EXAMPLES else 280)}\n",
    "Est. cost (output):\\t{round((len(titles) * (10 if not GROUP_EXAMPLES else 280) * PRICE[f\"{MODEL}_input\"]), 2)}\n",
    "\"\"\")"
   ]
  },
  {
   "cell_type": "markdown",
   "metadata": {},
   "source": [
    "### Perform Request"
   ]
  },
  {
   "cell_type": "code",
   "execution_count": null,
   "metadata": {},
   "outputs": [],
   "source": [
    "tqdm.pandas()\n",
    "titles['response'] = titles.progress_apply(lambda x: get_completion(x['messages'], x.name, x['ID'], model=MODEL, p_user=PATH_PROMPT_USER), axis=1)"
   ]
  },
  {
   "cell_type": "markdown",
   "metadata": {},
   "source": [
    "### Parse Output and Save Results"
   ]
  },
  {
   "cell_type": "code",
   "execution_count": null,
   "metadata": {},
   "outputs": [],
   "source": [
    "titles = \\\n",
    "    pd.concat([\n",
    "        titles,\n",
    "        pd.Series(titles['response'].map(lambda x: extract_model_answers(x)).tolist(), name='gpt4-label', index=titles.index),\n",
    "    ], axis=1)\n",
    "\n",
    "if GROUP_EXAMPLES:\n",
    "    titles = titles.explode(['ID', 'Title', 'Frequency', 'gpt4-label'])\n",
    "    \n",
    "titles"
   ]
  },
  {
   "cell_type": "code",
   "execution_count": null,
   "metadata": {},
   "outputs": [],
   "source": [
    "titles.to_csv(PATH_OUT, sep = ';')"
   ]
  }
 ],
 "metadata": {
  "kernelspec": {
   "display_name": "Python 3",
   "language": "python",
   "name": "python3"
  },
  "language_info": {
   "codemirror_mode": {
    "name": "ipython",
    "version": 3
   },
   "file_extension": ".py",
   "mimetype": "text/x-python",
   "name": "python",
   "nbconvert_exporter": "python",
   "pygments_lexer": "ipython3",
   "version": "3.8.5"
  },
  "orig_nbformat": 4
 },
 "nbformat": 4,
 "nbformat_minor": 2
}
