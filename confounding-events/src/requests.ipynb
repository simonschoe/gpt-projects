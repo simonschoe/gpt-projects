{
 "cells": [
  {
   "cell_type": "code",
   "execution_count": 1,
   "metadata": {},
   "outputs": [],
   "source": [
    "import os, pandas as pd, openai\n",
    "from pathlib import Path\n",
    "from tqdm import tqdm\n",
    "from dotenv import load_dotenv\n",
    "from gpt4_utils import create_message, get_completion, extract_model_answers1, extract_model_answers2\n",
    "\n",
    "# load api key\n",
    "load_dotenv()\n",
    "openai.api_key = os.getenv(\"OPENAI_API_KEY\")\n",
    "\n",
    "# set global params\n",
    "MODEL = 'gpt-4-0613'\n",
    "\n",
    "THRESH = 7350 if (MODEL in ['gpt-4-0314', 'gpt-4-0613']) else 3350\n",
    "\n",
    "PRICE = {'gpt-3.5-turbo-0301': 0.002 / 1000,\n",
    "         'gpt-4-0613_input': 0.03 / 1000,\n",
    "         'gpt-4-0613_output': 0.06 / 1000,\n",
    "         'text-davinci-003': 0.02 / 1000}"
   ]
  },
  {
   "cell_type": "code",
   "execution_count": 2,
   "metadata": {},
   "outputs": [],
   "source": [
    "PATH_CONF_v2  = Path('..', 'data', 'news_corpus_conf_v2.feather')\n",
    "news = pd.read_feather(PATH_CONF_v2)"
   ]
  },
  {
   "attachments": {},
   "cell_type": "markdown",
   "metadata": {},
   "source": [
    "### 1. Round: General Assessment & Summary"
   ]
  },
  {
   "cell_type": "code",
   "execution_count": 3,
   "metadata": {},
   "outputs": [],
   "source": [
    "PATH_PROMPT_SYS  = Path('..', 'data', 'openai-prompts', '20230628_sys.txt')\n",
    "PATH_PROMPT_USER = Path('..', 'data', 'openai-prompts', '20230628.txt')"
   ]
  },
  {
   "cell_type": "code",
   "execution_count": 4,
   "metadata": {},
   "outputs": [
    {
     "name": "stdout",
     "output_type": "stream",
     "text": [
      "\n",
      "Model checkpoint:\tgpt-4-0613\n",
      "Est. tokens (prompt):\t3473142\n",
      "Est. cost (prompt):\t104.19\n",
      "Est. tokens (output):\t372240\n",
      "Est. cost (prompt):\t22.33\n",
      "\n"
     ]
    }
   ],
   "source": [
    "news = \\\n",
    "    pd.concat([\n",
    "        news,\n",
    "        pd.DataFrame(\n",
    "            news.apply(lambda x:\n",
    "                create_message(p_sys=PATH_PROMPT_SYS, p_user=PATH_PROMPT_USER, common_names=x['common_names'], title=x['title'], body=x['body'], model=MODEL, thresh=THRESH),\n",
    "                axis=1).tolist(),\n",
    "            columns=['messages', 'trimmed', 'n_tok']\n",
    "        )\n",
    "    ], axis=1)\n",
    "\n",
    "print(f\"\"\"\n",
    "Model checkpoint:\\t{MODEL}\n",
    "Est. tokens (prompt):\\t{news['n_tok'].sum()}\n",
    "Est. cost (prompt):\\t{round((news['n_tok'].sum() * PRICE[f'{MODEL}_input']), 2)}\n",
    "Est. tokens (output):\\t{len(news) * 120}\n",
    "Est. cost (prompt):\\t{round((len(news) * 120 * PRICE[f'{MODEL}_output']), 2)}\n",
    "\"\"\")"
   ]
  },
  {
   "cell_type": "code",
   "execution_count": 5,
   "metadata": {},
   "outputs": [
    {
     "name": "stderr",
     "output_type": "stream",
     "text": [
      "  0%|          | 0/3102 [00:00<?, ?it/s]"
     ]
    },
    {
     "name": "stderr",
     "output_type": "stream",
     "text": [
      "100%|██████████| 3102/3102 [00:06<00:00, 496.35it/s]\n"
     ]
    }
   ],
   "source": [
    "tqdm.pandas()\n",
    "news['response'] = news.progress_apply(lambda x: get_completion(x['messages'], x['an'], model=MODEL, p_user=PATH_PROMPT_USER), axis=1)"
   ]
  },
  {
   "cell_type": "code",
   "execution_count": 6,
   "metadata": {},
   "outputs": [],
   "source": [
    "news = \\\n",
    "    pd.concat([\n",
    "        news,\n",
    "        pd.DataFrame(\n",
    "            news['response'].map(lambda x: extract_model_answers1(x)).tolist(),\n",
    "            columns=['e1', 'a1', 'e2', 'a2']\n",
    "        )\n",
    "    ], axis=1)"
   ]
  },
  {
   "attachments": {},
   "cell_type": "markdown",
   "metadata": {},
   "source": [
    "### 2. Round: Event Classification"
   ]
  },
  {
   "cell_type": "code",
   "execution_count": 7,
   "metadata": {},
   "outputs": [],
   "source": [
    "PATH_PROMPT_SYS  = Path('..', 'data', 'openai-prompts', '20230704_sys.txt')\n",
    "PATH_PROMPT_USER = Path('..', 'data', 'openai-prompts', '20230704.txt')"
   ]
  },
  {
   "cell_type": "code",
   "execution_count": 8,
   "metadata": {},
   "outputs": [
    {
     "name": "stdout",
     "output_type": "stream",
     "text": [
      "\n",
      "Model checkpoint:\tgpt-4-0613\n",
      "Est. tokens (prompt):\t850012\n",
      "Est. cost (prompt):\t25.5\n",
      "Est. tokens (output):\t31020\n",
      "Est. cost (prompt):\t1.86\n",
      "\n"
     ]
    }
   ],
   "source": [
    "news = \\\n",
    "    pd.concat([\n",
    "        news,\n",
    "        pd.DataFrame(\n",
    "            news.apply(lambda x:\n",
    "                create_message(p_sys=PATH_PROMPT_SYS, p_user=PATH_PROMPT_USER, body=x['e1'], model=MODEL, thresh=THRESH),\n",
    "                axis=1).tolist(),\n",
    "            columns=['messages2', 'trimmed2', 'n_tok2']\n",
    "        )\n",
    "    ], axis=1)\n",
    "\n",
    "print(f\"\"\"\n",
    "Model checkpoint:\\t{MODEL}\n",
    "Est. tokens (prompt):\\t{news['n_tok2'].sum()}\n",
    "Est. cost (prompt):\\t{round((news['n_tok2'].sum() * PRICE[f'{MODEL}_input']), 2)}\n",
    "Est. tokens (output):\\t{len(news) * 10}\n",
    "Est. cost (prompt):\\t{round((len(news) * 10 * PRICE[f'{MODEL}_output']), 2)}\n",
    "\"\"\")"
   ]
  },
  {
   "cell_type": "code",
   "execution_count": 9,
   "metadata": {},
   "outputs": [
    {
     "name": "stderr",
     "output_type": "stream",
     "text": [
      "100%|██████████| 3102/3102 [00:07<00:00, 434.86it/s]\n"
     ]
    }
   ],
   "source": [
    "tqdm.pandas()\n",
    "news['response2'] = news.progress_apply(lambda x: get_completion(x['messages2'], x['an'], model=MODEL, p_user=PATH_PROMPT_USER), axis=1)"
   ]
  },
  {
   "cell_type": "code",
   "execution_count": 10,
   "metadata": {},
   "outputs": [],
   "source": [
    "news['codes'] = news['response2'].map(lambda x: extract_model_answers2(x))"
   ]
  },
  {
   "cell_type": "code",
   "execution_count": 11,
   "metadata": {},
   "outputs": [],
   "source": [
    "PATH_CONF_OUT = Path('..', 'data', 'labels', 'labels_news_gpt.feather')\n",
    "news.to_feather(PATH_CONF_OUT)"
   ]
  },
  {
   "attachments": {},
   "cell_type": "markdown",
   "metadata": {},
   "source": [
    "### Face Validity"
   ]
  },
  {
   "cell_type": "code",
   "execution_count": 20,
   "metadata": {},
   "outputs": [
    {
     "data": {
      "text/plain": [
       "6    AP Moeller - Maersk\n",
       "Name: common_names, dtype: object"
      ]
     },
     "execution_count": 20,
     "metadata": {},
     "output_type": "execute_result"
    }
   ],
   "source": [
    "news[news['title'] == \"Semi-annual review of the VINX30 Index (33/18)\"]['common_names']"
   ]
  },
  {
   "cell_type": "code",
   "execution_count": 12,
   "metadata": {},
   "outputs": [],
   "source": [
    "x = news[news['an'] == 'LBA0000020181205eec501rnp']"
   ]
  },
  {
   "cell_type": "code",
   "execution_count": 16,
   "metadata": {},
   "outputs": [
    {
     "name": "stdout",
     "output_type": "stream",
     "text": [
      "AP Moeller - Maersk A/S\n"
     ]
    }
   ],
   "source": [
    "print(x['ric_coname'].iloc[0])"
   ]
  },
  {
   "cell_type": "code",
   "execution_count": 13,
   "metadata": {},
   "outputs": [
    {
     "name": "stdout",
     "output_type": "stream",
     "text": [
      "Here is a news article:\n",
      "\n",
      "<article>\n",
      "Title: PREVIEW-Danske investors bank on Maersk clan to chart course through crisis\\n\n",
      "Body: * Top investor A.P. Moller called EGM after ousting chairman\n",
      "\n",
      "* Shareholder meeting on Dec. 7 to elect new board members\n",
      "\n",
      "* Danske should \"open up\" to investors - big 10 shareholder\n",
      "\n",
      "* Danish pension fund PFA says Danske can \"move forward\"\n",
      "\n",
      "* Danske hit by $227 billion money laundering scandal\n",
      "\n",
      "By Simon Jessop, Kirstin Ridley and Teis Jensen\n",
      "\n",
      "LONDON/COPENHAGEN, Dec 5 (Reuters) - Danske Bank's top investors are looking to Denmark's Maersk family to steer the country's largest lender through the turmoil of a 200 billion euro ($227 billion) money laundering scandal.\n",
      "\n",
      "The Danish clan's investment firm A.P. Moller Holding, Danske's normally passive top shareholder with a stake of around 21 percent, has ousted the bank's chairman Ole Andersen and called an extraordinary shareholder meeting in Copenhagen on Friday to nominate two successors to the board.\n",
      "\n",
      "Given the depth of the crisis at Danske Bank and the threat of regulatory penalties, some are relieved at A.P. Moller Holding's new activist approach.\n",
      "\n",
      "\"They're saying: 'screw this. We need to sort this out; we can't sit on the sidelines being passive money',\" one of Danske Bank's top 30 investors said on condition of anonymity.\n",
      "\n",
      "A.P. Moller Holding says it hopes for \"broad support\" for its nominations at Friday's meeting.\n",
      "\n",
      "Its aim is to build a team with the authority to choose a replacement for former chief executive Thomas Borgen who resigned in September after admitting that Danske's Estonian branch helped funnel hundreds of billions of euros from countries such as Russia over more than eight years.\n",
      "\n",
      "The threat of a heavy fine from the U.S. Department of Justice, which is investigating alongside Danish, Estonian and British authorities, has sent Danske's shares plunging almost 50 percent since March, erasing around $15 billion of market value and raising the prospect of legal action.\n",
      "\n",
      "Nearly half a dozen groups have announced plans to gather shareholders and claim damages, although none has filed a case.\n",
      "\n",
      "\"RIGHT CANDIDATE\"\n",
      "\n",
      "A.P. Moller Holding is proposing to nominate Karsten Dybvad, CEO of the Danish confederation of industry, and Jan Thorsgaard Nielsen, its own chief investment officer, as chairman and vice chairman respectively to steady Danske Bank's board.\n",
      "\n",
      "Several top investors contacted by Reuters said they would approve the nominations, which have already been backed by the board, although one complained they had been unable to reach Danske Bank's depleted board directly.\n",
      "\n",
      "\"They (Danske) need to understand that they have to open up and talk to their shareholders,\" said the investor, who ranks among Danske's top 10, but declined to be named. \"Under the usual corporate governance, you speak to the board,\" he added.\n",
      "\n",
      "Claus Ingar Jensen, Danske Bank's head of investor relations, said it has been \"in continued contact\" with large and small investors over the last months and answered all questions - as well as participating in public hearings in Danish and European parliaments.\n",
      "\n",
      "Danske Bank supports the board nominations, although it does not back a third candidate, shareholder and engineer Arne Bostrom, who has also put himself forward for election.\n",
      "\n",
      "Allan Polack, group chief executive of Danish pension fund PFA, which holds around 1.0 billion Danish crowns ($153 million)of Danske shares, says Dybvad is the \"right candidate\" to lead Danske and restore investor, customer and public confidence. \"We believe that the bank, under the right management, can move forward and remain a pivotal financial institution in Denmark's society,\" he said.\n",
      "\n",
      "Henrik Didner, founder of Swedish fund house Didner & Gerge and Danske's third-biggest shareholder - according to Refinitiv Eikon data - is also supportive and said he planned to meet people \"connected to\" Danske in due course. ($1 = 6.5521 Danish crowns) ($1 = 0.8820 euros) (Editing by Alexander Smith) \n",
      "</article>\n",
      "\n",
      "\n",
      "Answer the following two question step-by-step:\n",
      "Step 1: Does the news article discuss a stock price-relevant event?\n",
      "Step 2: If so, does this event directly relate to one of the following companies: AP Moeller - Maersk?\n",
      "\n",
      "\n",
      "The output should be formatted as follows:\n",
      "Step 1:\n",
      "- Short explanation: <string>\n",
      "- Answer: <yes/no/don't know>\n",
      "Step 2:\n",
      "- Short explanation: <string>\n",
      "- Answer: <yes/no/don't know>\n",
      "\n",
      "\n"
     ]
    }
   ],
   "source": [
    "print(x['messages'].iloc[0][1]['content'])"
   ]
  },
  {
   "cell_type": "code",
   "execution_count": 14,
   "metadata": {},
   "outputs": [
    {
     "name": "stdout",
     "output_type": "stream",
     "text": [
      "Step 1:\n",
      "- Short explanation: The article discusses several stock price-relevant events. These include changes in top management at Danske Bank, with the ousting of the chairman and the nomination of new board members. The article also mentions a significant legal issue, a $227 billion money laundering scandal, which has led to regulatory investigations and a substantial drop in Danske Bank's share price. \n",
      "- Answer: Yes\n",
      "\n",
      "Step 2:\n",
      "- Short explanation: The events discussed in the article directly relate to Danske Bank. However, the Maersk family, through their investment firm A.P. Moller Holding, is involved as they are the top shareholder in Danske Bank and have taken an active role in addressing the bank's crisis. A.P. Moller Holding is related to AP Moeller - Maersk, but they are not the same entity. The article does not mention any direct impact on AP Moeller - Maersk.\n",
      "- Answer: No\n"
     ]
    }
   ],
   "source": [
    "print(x['response'].iloc[0]['output'])"
   ]
  },
  {
   "cell_type": "code",
   "execution_count": 15,
   "metadata": {},
   "outputs": [
    {
     "name": "stdout",
     "output_type": "stream",
     "text": [
      "a. change in the top management team\n",
      "j. legal fines, lawsuit, or regulatory changes\n"
     ]
    }
   ],
   "source": [
    "print(x['response2'].iloc[0]['output'])"
   ]
  }
 ],
 "metadata": {
  "kernelspec": {
   "display_name": "Python 3",
   "language": "python",
   "name": "python3"
  },
  "language_info": {
   "codemirror_mode": {
    "name": "ipython",
    "version": 3
   },
   "file_extension": ".py",
   "mimetype": "text/x-python",
   "name": "python",
   "nbconvert_exporter": "python",
   "pygments_lexer": "ipython3",
   "version": "3.8.5"
  },
  "orig_nbformat": 4
 },
 "nbformat": 4,
 "nbformat_minor": 2
}
