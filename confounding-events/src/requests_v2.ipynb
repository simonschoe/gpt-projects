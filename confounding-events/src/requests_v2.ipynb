{
 "cells": [
  {
   "cell_type": "code",
   "execution_count": 1,
   "metadata": {},
   "outputs": [],
   "source": [
    "import os\n",
    "from pathlib import Path\n",
    "\n",
    "import openai\n",
    "import pandas as pd\n",
    "from dotenv import load_dotenv\n",
    "from utils import create_message, extract_model_answers, get_completion\n",
    "from tqdm import tqdm\n",
    "\n",
    "# load api key\n",
    "load_dotenv()\n",
    "openai.api_key = os.getenv(\"OPENAI_API_KEY\")\n",
    "\n",
    "# set global params\n",
    "MODEL = 'gpt-4-1106-preview'\n",
    "\n",
    "if MODEL in ['gpt-4-0314', 'gpt-4-0613']:\n",
    "    THRESH = 7_350\n",
    "elif MODEL == 'gpt-4-1106-preview':\n",
    "    THRESH = 127_350\n",
    "else:\n",
    "    THRES = 3350\n",
    "\n",
    "PRICE = {'gpt-4-1106-preview_input': 0.01 / 1000,\n",
    "         'gpt-4-1106-preview_output': 0.03 / 1000,\n",
    "         'gpt-3.5-turbo-0301': 0.002 / 1000,\n",
    "         'gpt-4-0613_input': 0.03 / 1000,\n",
    "         'gpt-4-0613_output': 0.06 / 1000,\n",
    "         'text-davinci-003': 0.02 / 1000}"
   ]
  },
  {
   "cell_type": "code",
   "execution_count": 2,
   "metadata": {},
   "outputs": [],
   "source": [
    "PATH_CONF  = Path('..', 'input', 'news_corpus_conf_v2.feather')\n",
    "news = pd.read_feather(PATH_CONF)"
   ]
  },
  {
   "attachments": {},
   "cell_type": "markdown",
   "metadata": {},
   "source": [
    "### 1. Round: General Assessment & Summary"
   ]
  },
  {
   "cell_type": "code",
   "execution_count": 3,
   "metadata": {},
   "outputs": [],
   "source": [
    "PATH_PROMPT_SYS  = Path('..', 'input', 'prompts', '20231127_sys.txt')\n",
    "PATH_PROMPT_USER = Path('..', 'input', 'prompts', '20231130.txt')"
   ]
  },
  {
   "cell_type": "code",
   "execution_count": 4,
   "metadata": {},
   "outputs": [
    {
     "name": "stdout",
     "output_type": "stream",
     "text": [
      "\n",
      "Model checkpoint:\tgpt-4-1106-preview\n",
      "Est. tokens (prompt):\t4280262\n",
      "Est. cost (prompt):\t42.8\n",
      "Est. tokens (output):\t372240\n",
      "Est. cost (prompt):\t11.17\n",
      "\n"
     ]
    }
   ],
   "source": [
    "news = \\\n",
    "    pd.concat([\n",
    "        news,\n",
    "        pd.DataFrame(\n",
    "            news.apply(lambda x:\n",
    "                create_message(p_sys=PATH_PROMPT_SYS, p_user=PATH_PROMPT_USER,\n",
    "                               common_names=x['common_names'], title=x['title'], publication_datetime=x['publication_datetime'], body=x['body'],\n",
    "                               model=MODEL, thresh=THRESH),\n",
    "                axis=1).tolist(),\n",
    "            columns=['messages', 'trimmed', 'n_tok'], index=news.index\n",
    "        )\n",
    "    ], axis=1)\n",
    "\n",
    "print(f\"\"\"\n",
    "Model checkpoint:\\t{MODEL}\n",
    "Est. tokens (prompt):\\t{news['n_tok'].sum()}\n",
    "Est. cost (prompt):\\t{round((news['n_tok'].sum() * PRICE[f'{MODEL}_input']), 2)}\n",
    "Est. tokens (output):\\t{len(news) * 120}\n",
    "Est. cost (prompt):\\t{round((len(news) * 120 * PRICE[f'{MODEL}_output']), 2)}\n",
    "\"\"\")"
   ]
  },
  {
   "cell_type": "code",
   "execution_count": 5,
   "metadata": {},
   "outputs": [
    {
     "name": "stderr",
     "output_type": "stream",
     "text": [
      "  0%|          | 0/3102 [00:00<?, ?it/s]"
     ]
    },
    {
     "name": "stderr",
     "output_type": "stream",
     "text": [
      "100%|██████████| 3102/3102 [00:08<00:00, 368.75it/s]\n",
      "100%|██████████| 3102/3102 [00:00<00:00, 34037.67it/s]\n"
     ]
    }
   ],
   "source": [
    "tqdm.pandas()\n",
    "news['response'] = news.progress_apply(lambda x: get_completion(x['messages'], x['an'], model=MODEL, p_user=PATH_PROMPT_USER), axis=1)\n",
    "news = pd.concat([news,\n",
    "                  pd.DataFrame(news['response'].progress_map(lambda x: extract_model_answers(x)).tolist(), columns=['relevant', 'codes'])],\n",
    "                 axis=1)"
   ]
  },
  {
   "cell_type": "code",
   "execution_count": 6,
   "metadata": {},
   "outputs": [],
   "source": [
    "PATH_CONF_OUT = Path('..', 'output', 'labels_news_gpt_v3.feather')\n",
    "news.to_feather(PATH_CONF_OUT)"
   ]
  },
  {
   "attachments": {},
   "cell_type": "markdown",
   "metadata": {},
   "source": [
    "### Face Validity"
   ]
  },
  {
   "cell_type": "code",
   "execution_count": 12,
   "metadata": {},
   "outputs": [],
   "source": [
    "x = news[news['an'] == 'LBA0000020181205eec501rnp']"
   ]
  },
  {
   "cell_type": "code",
   "execution_count": 13,
   "metadata": {},
   "outputs": [
    {
     "name": "stdout",
     "output_type": "stream",
     "text": [
      "Here is a news article:\n",
      "\n",
      "<article>\n",
      "Title: PREVIEW-Danske investors bank on Maersk clan to chart course through crisis\\n\n",
      "Date: 2018-12-05\\n\n",
      "Body: * Top investor A.P. Moller called EGM after ousting chairman\n",
      "\n",
      "* Shareholder meeting on Dec. 7 to elect new board members\n",
      "\n",
      "* Danske should \"open up\" to investors - big 10 shareholder\n",
      "\n",
      "* Danish pension fund PFA says Danske can \"move forward\"\n",
      "\n",
      "* Danske hit by $227 billion money laundering scandal\n",
      "\n",
      "By Simon Jessop, Kirstin Ridley and Teis Jensen\n",
      "\n",
      "LONDON/COPENHAGEN, Dec 5 (Reuters) - Danske Bank's top investors are looking to Denmark's Maersk family to steer the country's largest lender through the turmoil of a 200 billion euro ($227 billion) money laundering scandal.\n",
      "\n",
      "The Danish clan's investment firm A.P. Moller Holding, Danske's normally passive top shareholder with a stake of around 21 percent, has ousted the bank's chairman Ole Andersen and called an extraordinary shareholder meeting in Copenhagen on Friday to nominate two successors to the board.\n",
      "\n",
      "Given the depth of the crisis at Danske Bank and the threat of regulatory penalties, some are relieved at A.P. Moller Holding's new activist approach.\n",
      "\n",
      "\"They're saying: 'screw this. We need to sort this out; we can't sit on the sidelines being passive money',\" one of Danske Bank's top 30 investors said on condition of anonymity.\n",
      "\n",
      "A.P. Moller Holding says it hopes for \"broad support\" for its nominations at Friday's meeting.\n",
      "\n",
      "Its aim is to build a team with the authority to choose a replacement for former chief executive Thomas Borgen who resigned in September after admitting that Danske's Estonian branch helped funnel hundreds of billions of euros from countries such as Russia over more than eight years.\n",
      "\n",
      "The threat of a heavy fine from the U.S. Department of Justice, which is investigating alongside Danish, Estonian and British authorities, has sent Danske's shares plunging almost 50 percent since March, erasing around $15 billion of market value and raising the prospect of legal action.\n",
      "\n",
      "Nearly half a dozen groups have announced plans to gather shareholders and claim damages, although none has filed a case.\n",
      "\n",
      "\"RIGHT CANDIDATE\"\n",
      "\n",
      "A.P. Moller Holding is proposing to nominate Karsten Dybvad, CEO of the Danish confederation of industry, and Jan Thorsgaard Nielsen, its own chief investment officer, as chairman and vice chairman respectively to steady Danske Bank's board.\n",
      "\n",
      "Several top investors contacted by Reuters said they would approve the nominations, which have already been backed by the board, although one complained they had been unable to reach Danske Bank's depleted board directly.\n",
      "\n",
      "\"They (Danske) need to understand that they have to open up and talk to their shareholders,\" said the investor, who ranks among Danske's top 10, but declined to be named. \"Under the usual corporate governance, you speak to the board,\" he added.\n",
      "\n",
      "Claus Ingar Jensen, Danske Bank's head of investor relations, said it has been \"in continued contact\" with large and small investors over the last months and answered all questions - as well as participating in public hearings in Danish and European parliaments.\n",
      "\n",
      "Danske Bank supports the board nominations, although it does not back a third candidate, shareholder and engineer Arne Bostrom, who has also put himself forward for election.\n",
      "\n",
      "Allan Polack, group chief executive of Danish pension fund PFA, which holds around 1.0 billion Danish crowns ($153 million)of Danske shares, says Dybvad is the \"right candidate\" to lead Danske and restore investor, customer and public confidence. \"We believe that the bank, under the right management, can move forward and remain a pivotal financial institution in Denmark's society,\" he said.\n",
      "\n",
      "Henrik Didner, founder of Swedish fund house Didner & Gerge and Danske's third-biggest shareholder - according to Refinitiv Eikon data - is also supportive and said he planned to meet people \"connected to\" Danske in due course. ($1 = 6.5521 Danish crowns) ($1 = 0.8820 euros) (Editing by Alexander Smith) \n",
      "</article>\n",
      "\n",
      "\n",
      "Answer the following two questions step-by-step:\n",
      "\n",
      "Step 1: Does the news article discuss a NEW event that has a SIGNIFICANT SHORT-TERM effect on the stock price with HIGH PROBABILITY and is DIRECTLY related to AP Moeller - Maersk? Provide a brief explanation and final answer (yes/no).\n",
      "\n",
      "Step 2: If yes, which of the following event type(s) apply (select one or several)? If no, return None.\n",
      "a. change in the main management board\n",
      "b. substantial changes in the workforce\n",
      "c. changes in production capacities\n",
      "d. shifts in the firm's strategy\n",
      "e. capital increases, share buyback programs, or repayment of debt\n",
      "f. dividend announcements\n",
      "g. M&A activities, divestment, or joint venture agreement (not merely talks or rumors)\n",
      "h. changes in security analyst forecasts or recommendations\n",
      "i. credit rating change\n",
      "j. legal fines, lawsuit, or regulatory changes\n",
      "k. announcement of financial results\n",
      "l. product recall announcements\n",
      "m. other\n",
      "\n",
      "\n",
      "The output should be formatted as JSON with keys \"explanation\" (str), \"final_answer\" (str), and \"event_type\" (list of str).\n",
      "\n"
     ]
    }
   ],
   "source": [
    "print(x['messages'].iloc[0][1]['content'])"
   ]
  },
  {
   "cell_type": "code",
   "execution_count": 14,
   "metadata": {},
   "outputs": [
    {
     "name": "stdout",
     "output_type": "stream",
     "text": [
      "{\n",
      "  \"explanation\": \"The news article discusses events related to Danske Bank, not directly related to A.P. Moller - Maersk. The article focuses on the actions taken by A.P. Moller Holding, which is the top investor in Danske Bank, in response to a money laundering scandal at Danske Bank. A.P. Moller Holding's involvement is in its capacity as a shareholder of Danske Bank, and the events described are specific to Danske Bank's governance and future direction. Therefore, while the events are significant and have a high probability of affecting Danske Bank's stock price in the short term, they are not directly related to A.P. Moller - Maersk's operations or stock price.\",\n",
      "  \"final_answer\": \"no\",\n",
      "  \"event_type\": null\n",
      "}\n"
     ]
    }
   ],
   "source": [
    "print(x['response'].iloc[0]['output'])"
   ]
  }
 ],
 "metadata": {
  "kernelspec": {
   "display_name": "Python 3",
   "language": "python",
   "name": "python3"
  },
  "language_info": {
   "codemirror_mode": {
    "name": "ipython",
    "version": 3
   },
   "file_extension": ".py",
   "mimetype": "text/x-python",
   "name": "python",
   "nbconvert_exporter": "python",
   "pygments_lexer": "ipython3",
   "version": "3.8.5"
  },
  "orig_nbformat": 4
 },
 "nbformat": 4,
 "nbformat_minor": 2
}
